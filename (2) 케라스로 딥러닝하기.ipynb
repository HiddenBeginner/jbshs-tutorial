{
 "cells": [
  {
   "cell_type": "code",
   "execution_count": null,
   "metadata": {
    "colab": {
     "base_uri": "https://localhost:8080/",
     "height": 81
    },
    "colab_type": "code",
    "executionInfo": {
     "elapsed": 2878,
     "status": "ok",
     "timestamp": 1576201700648,
     "user": {
      "displayName": "이동진",
      "photoUrl": "",
      "userId": "00145774497406566791"
     },
     "user_tz": -540
    },
    "id": "3rwnX8eKI6o3",
    "outputId": "0390d196-6863-4e49-a450-06f9a66c4ff9"
   },
   "outputs": [],
   "source": [
    "import warnings\n",
    "warnings.filterwarnings('ignore')\n",
    "\n",
    "import numpy as np\n",
    "import matplotlib.pyplot as plt\n",
    "import seaborn as sns\n",
    "\n",
    "from tensorflow.keras.models import Sequential\n",
    "from tensorflow.keras.layers import Dense"
   ]
  },
  {
   "cell_type": "markdown",
   "metadata": {},
   "source": [
    "### 1. 회귀 (Regression)\n",
    "#### 1-1 케라스로 선형회귀 나타내기"
   ]
  },
  {
   "cell_type": "code",
   "execution_count": null,
   "metadata": {
    "colab": {},
    "colab_type": "code",
    "id": "k3-kV7zoM5Ld"
   },
   "outputs": [],
   "source": [
    "# 선형회귀를 위한 인위 데이터 만들기\n",
    "x = np.linspace(-1, 1, 9)\n",
    "y = 4 * x + 2 + 0.5 * np.random.randn(len(x))"
   ]
  },
  {
   "cell_type": "code",
   "execution_count": null,
   "metadata": {
    "colab": {
     "base_uri": "https://localhost:8080/",
     "height": 323
    },
    "colab_type": "code",
    "executionInfo": {
     "elapsed": 3299,
     "status": "ok",
     "timestamp": 1576201701107,
     "user": {
      "displayName": "이동진",
      "photoUrl": "",
      "userId": "00145774497406566791"
     },
     "user_tz": -540
    },
    "id": "eZi6icyiNOD_",
    "outputId": "a6d35cb9-f98a-4590-8411-c2f5c100e78b"
   },
   "outputs": [],
   "source": [
    "plt.figure(figsize = (8, 5))\n",
    "# 데이터 그리기\n",
    "plt.plot(x, y, 'o', label = 'data')\n",
    "\n",
    "# x축 y축 그리기\n",
    "plt.vlines(x = 0,  ymin = y.min()-1, ymax = y.max()+1, color='k')\n",
    "plt.hlines(y = 0,  xmin = x.min()-1, xmax = x.max()+1, color='k')\n",
    "plt.grid()\n",
    "\n",
    "# 범례 보여주기\n",
    "plt.legend()\n",
    "\n",
    "# 보여주기\n",
    "plt.show()"
   ]
  },
  {
   "cell_type": "markdown",
   "metadata": {
    "colab_type": "text",
    "id": "dhrqpN1Bf8EN"
   },
   "source": [
    "---\n",
    "\n",
    "**케라스로 딥러닝 만드는 세 가지 단계**\n",
    "1. 모델 정의\n",
    "1. 모델 컴파일\n",
    "1. 모델 훈련\n",
    "\n",
    "**하나하나 알아보기**\n",
    "\n",
    "모델 정의\n",
    "- Sequential 인지? Functional 인지?\n",
    "  - Sequential : 모델을 쌓은 순서대로 인풋이 흘러감\n",
    "  - Functional : 입력값이 중간에 나뉘어지거나 합쳐지는 등의 과정이 있을 때 사용(고급 스킬)\n",
    "- 레이어 쌓기 : `model.add()`로 원하는 레이어를 쌓아올림\n",
    "\n",
    "모델 컴파일\n",
    "  - 손실 함수 ex) binary_crossentropy, mean-squared-error, mean-absolute-error\n",
    "  - 최적화 알고리즘, ex) Adam, SGD, RMSprop\n",
    "  - 평가지표, ex) accuracy, mean-absolute-error\n",
    "\n",
    "모델 학습\n",
    "  - 데이터\n",
    "  - 에폭 횟수\n",
    "  - 배치 사이즈\n",
    "  - 등등"
   ]
  },
  {
   "cell_type": "code",
   "execution_count": null,
   "metadata": {
    "colab": {
     "base_uri": "https://localhost:8080/",
     "height": 477
    },
    "colab_type": "code",
    "executionInfo": {
     "elapsed": 4626,
     "status": "ok",
     "timestamp": 1576201702449,
     "user": {
      "displayName": "이동진",
      "photoUrl": "",
      "userId": "00145774497406566791"
     },
     "user_tz": -540
    },
    "id": "2G6sYylyODdK",
    "outputId": "cf7d475f-f751-47b7-f916-87536ecb6fc7"
   },
   "outputs": [],
   "source": [
    "###############################################################\n",
    "# 케라스로 선형회귀 구현하기                                  #\n",
    "###############################################################\n",
    "# 모델 정의\n",
    "model\n",
    "\n",
    "# 모델 컴파일\n",
    "model\n",
    "\n",
    "# 모델 훈련\n",
    "model\n",
    "###############################################################\n",
    "#                                                             #\n",
    "###############################################################"
   ]
  },
  {
   "cell_type": "markdown",
   "metadata": {
    "colab_type": "text",
    "id": "hY9WWaDPhZXp"
   },
   "source": [
    "**훈련시킨 모델에 새로운 입력값을 넣었을 때 어떤 예측 값을 내는지 확인하기**<br/>\n",
    "새로운 입력값 : -1에서 1까지 50등분"
   ]
  },
  {
   "cell_type": "code",
   "execution_count": null,
   "metadata": {
    "colab": {},
    "colab_type": "code",
    "id": "Z6kYrMFZNOp7"
   },
   "outputs": [],
   "source": [
    "x_test = np.linspace(-1, 1, 50)\n",
    "y_pred = model.predict(x_test)"
   ]
  },
  {
   "cell_type": "code",
   "execution_count": null,
   "metadata": {
    "colab": {
     "base_uri": "https://localhost:8080/",
     "height": 323
    },
    "colab_type": "code",
    "executionInfo": {
     "elapsed": 4905,
     "status": "ok",
     "timestamp": 1576201702749,
     "user": {
      "displayName": "이동진",
      "photoUrl": "",
      "userId": "00145774497406566791"
     },
     "user_tz": -540
    },
    "id": "B7d_rqKdNpk9",
    "outputId": "ff75c8d7-3e94-42a0-bf74-f3ed4f8fcfa4"
   },
   "outputs": [],
   "source": [
    "plt.figure(figsize = (8, 5))\n",
    "# 데이터 그리기\n",
    "plt.scatter(x, y, label = 'data')\n",
    "plt.plot(x_test, y_pred, 'r-', label = 'fitting-line')\n",
    "\n",
    "\n",
    "# x축 y축 그리기\n",
    "plt.vlines(x = 0,  ymin = y.min()-1, ymax = y.max()+1, color='k')\n",
    "plt.hlines(y = 0,  xmin = x.min()-1, xmax = x.max()+1, color='k')\n",
    "plt.grid()\n",
    "\n",
    "# 범례 보여주기\n",
    "plt.legend()\n",
    "\n",
    "# 보여주기\n",
    "plt.show()"
   ]
  },
  {
   "cell_type": "markdown",
   "metadata": {
    "colab_type": "text",
    "id": "6jbZ4ZRQSAQM"
   },
   "source": [
    "#### 1-2. 선형회귀로 사인그래프를 나타낼 수 있을까?"
   ]
  },
  {
   "cell_type": "code",
   "execution_count": null,
   "metadata": {
    "colab": {},
    "colab_type": "code",
    "id": "l07E3yxnRkiZ"
   },
   "outputs": [],
   "source": [
    "# 사인그래프 만들기\n",
    "x = np.linspace(-1, 1, 20)\n",
    "y = np.sin(np.pi * x)"
   ]
  },
  {
   "cell_type": "code",
   "execution_count": null,
   "metadata": {
    "colab": {
     "base_uri": "https://localhost:8080/",
     "height": 320
    },
    "colab_type": "code",
    "executionInfo": {
     "elapsed": 5934,
     "status": "ok",
     "timestamp": 1576201703866,
     "user": {
      "displayName": "이동진",
      "photoUrl": "",
      "userId": "00145774497406566791"
     },
     "user_tz": -540
    },
    "id": "NfIvmCdyRloV",
    "outputId": "0cfbe550-0003-4940-9755-124de99509f3"
   },
   "outputs": [],
   "source": [
    "plt.figure(figsize = (8,5))\n",
    "# 데이터 그리기\n",
    "plt.plot(x, y, 'o', label = 'data')\n",
    "\n",
    "# x축 y축 그리기\n",
    "plt.vlines(x = 0,  ymin = y.min()-1, ymax = y.max()+1, color='k')\n",
    "plt.hlines(y = 0,  xmin = x.min()-1, xmax = x.max()+1, color='k')\n",
    "plt.grid()\n",
    "\n",
    "# 범례 보여주기\n",
    "plt.legend()\n",
    "\n",
    "# 보여주기\n",
    "plt.show()"
   ]
  },
  {
   "cell_type": "code",
   "execution_count": null,
   "metadata": {
    "colab": {
     "base_uri": "https://localhost:8080/",
     "height": 34
    },
    "colab_type": "code",
    "executionInfo": {
     "elapsed": 7276,
     "status": "ok",
     "timestamp": 1576201705569,
     "user": {
      "displayName": "이동진",
      "photoUrl": "",
      "userId": "00145774497406566791"
     },
     "user_tz": -540
    },
    "id": "vR438E4-SbSC",
    "outputId": "e94cccbf-786d-453a-96e6-ffc6d028022b"
   },
   "outputs": [],
   "source": [
    "model = Sequential()\n",
    "model.add(Dense(1, input_shape = (1,)))\n",
    "\n",
    "model.compile(loss = 'mean_squared_error', optimizer = 'sgd', metrics = ['mean_squared_error'])\n",
    "\n",
    "model.fit(x, y, epochs = 500, verbose = 0, batch_size = 9)"
   ]
  },
  {
   "cell_type": "code",
   "execution_count": null,
   "metadata": {
    "colab": {
     "base_uri": "https://localhost:8080/",
     "height": 320
    },
    "colab_type": "code",
    "executionInfo": {
     "elapsed": 6918,
     "status": "ok",
     "timestamp": 1576201705572,
     "user": {
      "displayName": "이동진",
      "photoUrl": "",
      "userId": "00145774497406566791"
     },
     "user_tz": -540
    },
    "id": "XB02JQJ3Sqa7",
    "outputId": "a32ef360-79a7-4979-e1b8-f70afdfd3748"
   },
   "outputs": [],
   "source": [
    "x_test = np.linspace(-1,1,50)\n",
    "y_pred = model.predict(x_test)\n",
    "\n",
    "plt.figure(figsize = (8,5))\n",
    "# 데이터 그리기\n",
    "plt.scatter(x, y, label = 'data')\n",
    "plt.plot(x_test, y_pred, 'r-', label = 'fitting-line')\n",
    "\n",
    "# x축 y축 그리기\n",
    "plt.vlines(x = 0,  ymin = y.min()-1, ymax = y.max()+1, color='k')\n",
    "plt.hlines(y = 0,  xmin = x.min()-1, xmax = x.max()+1, color='k')\n",
    "plt.grid()\n",
    "\n",
    "# 범례 보여주기\n",
    "plt.legend()\n",
    "\n",
    "# 보여주기\n",
    "plt.show()"
   ]
  },
  {
   "cell_type": "code",
   "execution_count": null,
   "metadata": {
    "colab": {
     "base_uri": "https://localhost:8080/",
     "height": 34
    },
    "colab_type": "code",
    "executionInfo": {
     "elapsed": 12133,
     "status": "ok",
     "timestamp": 1576201711246,
     "user": {
      "displayName": "이동진",
      "photoUrl": "",
      "userId": "00145774497406566791"
     },
     "user_tz": -540
    },
    "id": "5C--D73HSueY",
    "outputId": "b02b4fb5-2a02-4b89-cde7-e0e4ea53314a"
   },
   "outputs": [],
   "source": [
    "model = Sequential()\n",
    "###############################################################\n",
    "# 아래에 모델을 쌓아서 사인 그래프를 적합하시오.                 #\n",
    "# 첫 번째 레이어의 10 변경 가능합니다.                          #\n",
    "# 단, 마지막에 model.add(Dense(1))이 있어야 합니다.             #\n",
    "###############################################################\n",
    "model.add(Dense(10, activation = 'relu', input_shape = (1,)))\n",
    "\n",
    "model.add(Dense(1))\n",
    "###############################################################\n",
    "#                                                             #\n",
    "###############################################################\n",
    "model.compile(loss = 'mean_squared_error', optimizer = 'sgd', metrics = ['mean_squared_error'])\n",
    "model.fit(x,y, epochs = 500, verbose = 0, batch_size = 9)"
   ]
  },
  {
   "cell_type": "code",
   "execution_count": null,
   "metadata": {
    "colab": {
     "base_uri": "https://localhost:8080/",
     "height": 320
    },
    "colab_type": "code",
    "executionInfo": {
     "elapsed": 11907,
     "status": "ok",
     "timestamp": 1576201711619,
     "user": {
      "displayName": "이동진",
      "photoUrl": "",
      "userId": "00145774497406566791"
     },
     "user_tz": -540
    },
    "id": "U2EJYcszS4c1",
    "outputId": "9991e5a9-e41e-4fd8-ff0a-8a40f1e496fb"
   },
   "outputs": [],
   "source": [
    "x_test = np.linspace(-1,1,50)\n",
    "y_pred = model.predict(x_test)\n",
    "\n",
    "plt.figure(figsize = (8,5))\n",
    "# 데이터 그리기\n",
    "plt.scatter(x, y, label = 'data')\n",
    "plt.plot(x_test, y_pred, 'r-', label = 'fitting-line')\n",
    "\n",
    "\n",
    "# x축 y축 그리기\n",
    "plt.vlines(x = 0,  ymin = y.min()-1, ymax = y.max()+1, color='k')\n",
    "plt.hlines(y = 0,  xmin = x.min()-1, xmax = x.max()+1, color='k')\n",
    "plt.grid()\n",
    "\n",
    "# 범례 보여주기\n",
    "plt.legend()\n",
    "\n",
    "# 보여주기\n",
    "plt.show()"
   ]
  },
  {
   "cell_type": "markdown",
   "metadata": {
    "colab_type": "text",
    "id": "X8SNUbahWYpD"
   },
   "source": [
    "#### (참고) weight 초기화의 중요성"
   ]
  },
  {
   "cell_type": "code",
   "execution_count": null,
   "metadata": {
    "colab": {
     "base_uri": "https://localhost:8080/",
     "height": 90
    },
    "colab_type": "code",
    "executionInfo": {
     "elapsed": 14041,
     "status": "ok",
     "timestamp": 1576201714654,
     "user": {
      "displayName": "이동진",
      "photoUrl": "",
      "userId": "00145774497406566791"
     },
     "user_tz": -540
    },
    "id": "yRZ6nt8IS6ZS",
    "outputId": "2086251c-bafc-4a44-e6ec-20458634d4b5"
   },
   "outputs": [],
   "source": [
    "model = Sequential()\n",
    "model.add(Dense(128, activation = 'relu', input_shape = (1,)))\n",
    "model.add(Dense(128, activation = 'relu', kernel_initializer='he_normal'))\n",
    "model.add(Dense(128, activation = 'relu', kernel_initializer='he_normal'))\n",
    "model.add(Dense(128, activation = 'relu', kernel_initializer='he_normal'))\n",
    "model.add(Dense(1))\n",
    "\n",
    "model.compile(loss = 'mean_squared_error', optimizer = 'sgd', metrics = ['mean_squared_error'])\n",
    "\n",
    "model.fit(x,y, epochs = 500, verbose = 0, batch_size = 9)"
   ]
  },
  {
   "cell_type": "code",
   "execution_count": null,
   "metadata": {
    "colab": {
     "base_uri": "https://localhost:8080/",
     "height": 320
    },
    "colab_type": "code",
    "executionInfo": {
     "elapsed": 13938,
     "status": "ok",
     "timestamp": 1576201715002,
     "user": {
      "displayName": "이동진",
      "photoUrl": "",
      "userId": "00145774497406566791"
     },
     "user_tz": -540
    },
    "id": "j7J5hGi9USLR",
    "outputId": "23ceed70-bc1b-42c9-e833-4915f7595eb9"
   },
   "outputs": [],
   "source": [
    "x_test = np.linspace(-1,1,50)\n",
    "y_pred = model.predict(x_test)\n",
    "\n",
    "plt.figure(figsize = (8,5))\n",
    "# 데이터 그리기\n",
    "plt.scatter(x, y, label = 'data')\n",
    "plt.plot(x_test, y_pred, 'r-', label = 'fitting-line')\n",
    "\n",
    "\n",
    "# x축 y축 그리기\n",
    "plt.vlines(x = 0,  ymin = y.min()-1, ymax = y.max()+1, color='k')\n",
    "plt.hlines(y = 0,  xmin = x.min()-1, xmax = x.max()+1, color='k')\n",
    "plt.grid()\n",
    "\n",
    "# 범례 보여주기\n",
    "plt.legend()\n",
    "\n",
    "# 보여주기\n",
    "plt.show()"
   ]
  },
  {
   "cell_type": "markdown",
   "metadata": {
    "colab_type": "text",
    "id": "gUacumiyh2O7"
   },
   "source": [
    "### 2. 분류 (Classification)\n",
    "#### 2-1 케라스로 로지스틱회귀 나타내기"
   ]
  },
  {
   "cell_type": "code",
   "execution_count": null,
   "metadata": {
    "colab": {},
    "colab_type": "code",
    "id": "F-sl7MTih18T"
   },
   "outputs": [],
   "source": [
    "x = np.linspace(-1,1,50)\n",
    "y = np.linspace(-1,1,50)\n",
    "\n",
    "X = []\n",
    "for i in x:\n",
    "    for j in y:\n",
    "        if i+j <= 0:\n",
    "            X.append([i, j, 0])\n",
    "        else:\n",
    "            X.append([i, j, 1])\n",
    "X = np.array(X)"
   ]
  },
  {
   "cell_type": "code",
   "execution_count": null,
   "metadata": {
    "colab": {
     "base_uri": "https://localhost:8080/",
     "height": 483
    },
    "colab_type": "code",
    "executionInfo": {
     "elapsed": 19356,
     "status": "ok",
     "timestamp": 1576201726022,
     "user": {
      "displayName": "이동진",
      "photoUrl": "",
      "userId": "00145774497406566791"
     },
     "user_tz": -540
    },
    "id": "ijQAwUdkbAZ4",
    "outputId": "e48a9f16-a2cc-47d5-8259-f070b4be85bf"
   },
   "outputs": [],
   "source": [
    "plt.figure(figsize = (8,8))\n",
    "\n",
    "# 데이터 그리기\n",
    "sns.scatterplot(x = X[:,0], y = X[:,1], hue = X[:,2])\n",
    "\n",
    "# x축 y축 그리기\n",
    "plt.vlines(x = 0,  ymin = -3, ymax = 3, color='k')\n",
    "plt.hlines(y = 0,  xmin = -3, xmax = 3, color='k')\n",
    "plt.grid()\n",
    "\n",
    "plt.show()"
   ]
  },
  {
   "cell_type": "code",
   "execution_count": null,
   "metadata": {
    "colab": {
     "base_uri": "https://localhost:8080/",
     "height": 142
    },
    "colab_type": "code",
    "executionInfo": {
     "elapsed": 28342,
     "status": "ok",
     "timestamp": 1576201735726,
     "user": {
      "displayName": "이동진",
      "photoUrl": "",
      "userId": "00145774497406566791"
     },
     "user_tz": -540
    },
    "id": "WDjjlludoOEd",
    "outputId": "60496c33-753f-43d2-92e4-5c957d329664"
   },
   "outputs": [],
   "source": [
    "###############################################################\n",
    "# 케라스로 로지스틱회귀 구현하기               ]              #\n",
    "###############################################################\n",
    "model = Sequential()\n",
    "model.add(Dense(1, activation = 'sigmoid', input_shape = (2,)))\n",
    "model.compile(loss = 'binary_crossentropy', optimizer = 'sgd', metrics = ['acc'])\n",
    "model.fit(X[:,[0,1]],X[:,2], epochs = 30, verbose = 0, batch_size = 8, validation_split = 0.2)\n",
    "###############################################################\n",
    "#                                                             #\n",
    "###############################################################"
   ]
  },
  {
   "cell_type": "code",
   "execution_count": null,
   "metadata": {
    "colab": {
     "base_uri": "https://localhost:8080/",
     "height": 369
    },
    "colab_type": "code",
    "executionInfo": {
     "elapsed": 29303,
     "status": "ok",
     "timestamp": 1576201737208,
     "user": {
      "displayName": "이동진",
      "photoUrl": "",
      "userId": "00145774497406566791"
     },
     "user_tz": -540
    },
    "id": "isuGV5VFprBt",
    "outputId": "bc90a7c7-d131-4a69-8aab-8e7d1162b8e1"
   },
   "outputs": [],
   "source": [
    "#######################################\n",
    "# 테스트 데이터 만들기 & 예측하기\n",
    "#######################################\n",
    "x_test = []\n",
    "for i in x:\n",
    "    for j in y:\n",
    "        x_test.append([i,j])\n",
    "x_test = np.array(x_test)\n",
    "y_pred = model.predict(x_test)\n",
    "y_pred = (y_pred > 0.5).astype(int)\n",
    "\n",
    "#######################################\n",
    "# 그림그리기\n",
    "#######################################\n",
    "plt.figure(figsize = (15,5))\n",
    "\n",
    "plt.subplot(131)\n",
    "sns.scatterplot(x = x_test[:,0], y = x_test[:,1])\n",
    "plt.vlines(x = 0,  ymin = -3, ymax = 3, color='k')\n",
    "plt.hlines(y = 0,  xmin = -3, xmax = 3, color='k')\n",
    "plt.title(\"test data\")\n",
    "plt.grid()\n",
    "\n",
    "plt.subplot(132)\n",
    "sns.scatterplot(x = X[:,0], y = X[:,1], hue = X[:,2])\n",
    "plt.vlines(x = 0,  ymin = -3, ymax = 3, color='k')\n",
    "plt.hlines(y = 0,  xmin = -3, xmax = 3, color='k')\n",
    "plt.title(\"original data\")\n",
    "plt.grid()\n",
    "\n",
    "plt.subplot(133)\n",
    "sns.scatterplot(x = x_test[:,0], y = x_test[:,1], hue = y_pred.reshape(-1))\n",
    "plt.vlines(x = 0,  ymin = -3, ymax = 3, color='k')\n",
    "plt.hlines(y = 0,  xmin = -3, xmax = 3, color='k')\n",
    "plt.title(\"prediction\")\n",
    "plt.grid()\n",
    "\n",
    "plt.tight_layout()\n",
    "\n",
    "plt.show()"
   ]
  },
  {
   "cell_type": "markdown",
   "metadata": {
    "colab_type": "text",
    "id": "SJDb4CgziouV"
   },
   "source": [
    "#### 2-2 로지스틱회귀로 도넛모양을 나타낼 수 있을까?"
   ]
  },
  {
   "cell_type": "code",
   "execution_count": null,
   "metadata": {
    "colab": {},
    "colab_type": "code",
    "id": "GaxNDj7OixkX"
   },
   "outputs": [],
   "source": [
    "x = np.linspace(-2, 2, 100)\n",
    "y = np.linspace(-2, 2, 100)\n",
    "\n",
    "X = []\n",
    "for i in x:\n",
    "    for j in y:\n",
    "        if i**2 + j**2 <= 1:\n",
    "            X.append([i,j,0])\n",
    "        elif i**2 + j**2 <= 4:\n",
    "            X.append([i,j,1])\n",
    "\n",
    "X = np.array(X)"
   ]
  },
  {
   "cell_type": "code",
   "execution_count": null,
   "metadata": {
    "colab": {
     "base_uri": "https://localhost:8080/",
     "height": 483
    },
    "colab_type": "code",
    "executionInfo": {
     "elapsed": 29043,
     "status": "ok",
     "timestamp": 1576201739152,
     "user": {
      "displayName": "이동진",
      "photoUrl": "",
      "userId": "00145774497406566791"
     },
     "user_tz": -540
    },
    "id": "5W6bdLCoqFr8",
    "outputId": "1e731499-c795-4497-875e-804f36a87ea6"
   },
   "outputs": [],
   "source": [
    "plt.figure(figsize = (8,8))\n",
    "\n",
    "# 데이터 그리기\n",
    "sns.scatterplot(x = X[:,0], y = X[:,1], hue = X[:,2])\n",
    "\n",
    "# x축 y축 그리기\n",
    "plt.vlines(x = 0,  ymin = -3, ymax = 3, color='k')\n",
    "plt.hlines(y = 0,  xmin = -3, xmax = 3, color='k')\n",
    "plt.grid()\n",
    "\n",
    "plt.show()"
   ]
  },
  {
   "cell_type": "code",
   "execution_count": null,
   "metadata": {
    "colab": {
     "base_uri": "https://localhost:8080/",
     "height": 404
    },
    "colab_type": "code",
    "executionInfo": {
     "elapsed": 29124,
     "status": "ok",
     "timestamp": 1576201750592,
     "user": {
      "displayName": "이동진",
      "photoUrl": "",
      "userId": "00145774497406566791"
     },
     "user_tz": -540
    },
    "id": "14pPVZVulrsf",
    "outputId": "59c57f27-d290-419c-ef28-15b43a2dfec1"
   },
   "outputs": [],
   "source": [
    "model = Sequential()\n",
    "model.add(Dense(1, activation = 'sigmoid', input_shape = (2,)))\n",
    "model.compile(loss = 'binary_crossentropy', optimizer = 'sgd', metrics = ['acc'])\n",
    "model.fit(X[:,[0,1]],X[:,2], epochs = 10, verbose = 1, batch_size = 8, validation_split = 0.2)"
   ]
  },
  {
   "cell_type": "code",
   "execution_count": null,
   "metadata": {
    "colab": {
     "base_uri": "https://localhost:8080/",
     "height": 369
    },
    "colab_type": "code",
    "executionInfo": {
     "elapsed": 31080,
     "status": "ok",
     "timestamp": 1576201753045,
     "user": {
      "displayName": "이동진",
      "photoUrl": "",
      "userId": "00145774497406566791"
     },
     "user_tz": -540
    },
    "id": "URs9GzM5l3I_",
    "outputId": "28cb3bf0-f7ef-44de-f97c-ae1423b7e5e2"
   },
   "outputs": [],
   "source": [
    "#######################################\n",
    "# 테스트 데이터 만들기 & 예측하기\n",
    "#######################################\n",
    "x_test = []\n",
    "for i in x:\n",
    "    for j in y:\n",
    "        if i**2 + j**2 <= 4:\n",
    "            x_test.append([i,j])\n",
    "x_test = np.array(x_test)\n",
    "y_pred = model.predict(x_test)\n",
    "y_pred = (y_pred > 0.5).astype(int)\n",
    "\n",
    "#######################################\n",
    "# 그림그리기\n",
    "#######################################\n",
    "plt.figure(figsize = (15,5))\n",
    "\n",
    "plt.subplot(131)\n",
    "sns.scatterplot(x = x_test[:,0], y = x_test[:,1])\n",
    "plt.vlines(x = 0,  ymin = -3, ymax = 3, color='k')\n",
    "plt.hlines(y = 0,  xmin = -3, xmax = 3, color='k')\n",
    "plt.title(\"test data\")\n",
    "plt.grid()\n",
    "\n",
    "plt.subplot(132)\n",
    "sns.scatterplot(x = X[:,0], y = X[:,1], hue = X[:,2])\n",
    "plt.vlines(x = 0,  ymin = -3, ymax = 3, color='k')\n",
    "plt.hlines(y = 0,  xmin = -3, xmax = 3, color='k')\n",
    "plt.title(\"original data\")\n",
    "plt.grid()\n",
    "\n",
    "plt.subplot(133)\n",
    "sns.scatterplot(x = x_test[:,0], y = x_test[:,1], hue = y_pred.reshape(-1))\n",
    "plt.vlines(x = 0,  ymin = -3, ymax = 3, color='k')\n",
    "plt.hlines(y = 0,  xmin = -3, xmax = 3, color='k')\n",
    "plt.title(\"prediction\")\n",
    "plt.grid()\n",
    "\n",
    "plt.tight_layout()\n",
    "\n",
    "plt.show()"
   ]
  },
  {
   "cell_type": "code",
   "execution_count": null,
   "metadata": {
    "colab": {
     "base_uri": "https://localhost:8080/",
     "height": 404
    },
    "colab_type": "code",
    "executionInfo": {
     "elapsed": 46867,
     "status": "ok",
     "timestamp": 1576201771977,
     "user": {
      "displayName": "이동진",
      "photoUrl": "",
      "userId": "00145774497406566791"
     },
     "user_tz": -540
    },
    "id": "Bjp-9i1hjiOY",
    "outputId": "ace08dcb-98d7-4c2b-a115-609732983cbe"
   },
   "outputs": [],
   "source": [
    "model = Sequential()\n",
    "###############################################################\n",
    "# 아래에 모델을 쌓아서 도넛 모양을 적합하시오.                   #\n",
    "# 첫 번째 레이어의 10 변경 가능합니다.                          #\n",
    "# 단, 마지막에 model.add(Dense(1, activation = 'sigmoid'))     #\n",
    "###############################################################\n",
    "model.add(Dense(10, activation = 'relu', input_shape = (2,)))\n",
    "\n",
    "model.add(Dense(1, activation = 'sigmoid'))\n",
    "###############################################################\n",
    "#                                                             #\n",
    "###############################################################\n",
    "\n",
    "model.compile(loss = 'binary_crossentropy', optimizer = 'sgd', metrics = ['acc'])\n",
    "model.fit(X[:,[0,1]],X[:,2], epochs = 10, verbose = 1, batch_size = 8, validation_split = 0.2)"
   ]
  },
  {
   "cell_type": "code",
   "execution_count": null,
   "metadata": {
    "colab": {
     "base_uri": "https://localhost:8080/",
     "height": 369
    },
    "colab_type": "code",
    "executionInfo": {
     "elapsed": 48769,
     "status": "ok",
     "timestamp": 1576201774577,
     "user": {
      "displayName": "이동진",
      "photoUrl": "",
      "userId": "00145774497406566791"
     },
     "user_tz": -540
    },
    "id": "SHUeACrNlPZa",
    "outputId": "f746c158-e143-4774-8878-2ae1aabd6e04"
   },
   "outputs": [],
   "source": [
    "#######################################\n",
    "# 테스트 데이터 만들기 & 예측하기\n",
    "#######################################\n",
    "x_test = []\n",
    "for i in x:\n",
    "    for j in y:\n",
    "        if i**2 + j**2 <= 4:\n",
    "            x_test.append([i,j])\n",
    "x_test = np.array(x_test)\n",
    "y_pred = model.predict(x_test)\n",
    "y_pred = (y_pred > 0.5).astype(int)\n",
    "\n",
    "#######################################\n",
    "# 그림그리기\n",
    "#######################################\n",
    "plt.figure(figsize = (15,5))\n",
    "\n",
    "plt.subplot(131)\n",
    "sns.scatterplot(x = x_test[:,0], y = x_test[:,1])\n",
    "plt.vlines(x = 0,  ymin = -3, ymax = 3, color='k')\n",
    "plt.hlines(y = 0,  xmin = -3, xmax = 3, color='k')\n",
    "plt.title(\"test data\")\n",
    "plt.grid()\n",
    "\n",
    "plt.subplot(132)\n",
    "sns.scatterplot(x = X[:,0], y = X[:,1], hue = X[:,2])\n",
    "plt.vlines(x = 0,  ymin = -3, ymax = 3, color='k')\n",
    "plt.hlines(y = 0,  xmin = -3, xmax = 3, color='k')\n",
    "plt.title(\"original data\")\n",
    "plt.grid()\n",
    "\n",
    "plt.subplot(133)\n",
    "sns.scatterplot(x = x_test[:,0], y = x_test[:,1], hue = y_pred.reshape(-1))\n",
    "plt.vlines(x = 0,  ymin = -3, ymax = 3, color='k')\n",
    "plt.hlines(y = 0,  xmin = -3, xmax = 3, color='k')\n",
    "plt.title(\"prediction\")\n",
    "plt.grid()\n",
    "\n",
    "plt.tight_layout()\n",
    "\n",
    "plt.show()"
   ]
  },
  {
   "cell_type": "code",
   "execution_count": null,
   "metadata": {
    "colab": {},
    "colab_type": "code",
    "id": "qQsUOEWO_PnD"
   },
   "outputs": [],
   "source": []
  }
 ],
 "metadata": {
  "colab": {
   "collapsed_sections": [],
   "name": "빅데이터-해석-케라스.ipynb",
   "provenance": []
  },
  "kernelspec": {
   "display_name": "TensorFlow 2.8",
   "language": "python",
   "name": "tf28"
  },
  "language_info": {
   "codemirror_mode": {
    "name": "ipython",
    "version": 3
   },
   "file_extension": ".py",
   "mimetype": "text/x-python",
   "name": "python",
   "nbconvert_exporter": "python",
   "pygments_lexer": "ipython3",
   "version": "3.8.12"
  }
 },
 "nbformat": 4,
 "nbformat_minor": 1
}
